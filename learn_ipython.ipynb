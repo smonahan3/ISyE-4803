{
 "cells": [
  {
   "cell_type": "code",
   "execution_count": 90,
   "metadata": {
    "collapsed": false
   },
   "outputs": [
    {
     "name": "stdout",
     "output_type": "stream",
     "text": [
      "7 rows removed. Data has 296 rows.\n",
      "[1.0, 1.0, 0.0, 0.0, 0.0, 1.0, 0.0, 1.0, 1.0, 0.0, 0.0, 1.0, 0.0, 0.0, 0.0, 1.0, 0.0, 0.0, 0.0, 0.0, 0.0, 1.0, 1.0, 1.0, 0.0] 25 25\n"
     ]
    }
   ],
   "source": [
    "import os\n",
    "import numpy as np \n",
    "import pandas as pd\n",
    "import csv\n",
    "from sklearn.cluster import KMeans\n",
    "from sklearn import svm\n",
    "from sklearn.svm import SVC\n",
    "from sklearn.cross_validation import StratifiedShuffleSplit\n",
    "from sklearn.grid_search import\tGridSearchCV\n",
    "from sklearn import preprocessing\n",
    "import matplotlib.pyplot as plt\n",
    "%matplotlib inline\n",
    "\n",
    "os.chdir(\"/Users/seanmonahan/Documents/OneDrive/Documents/ISYE 4803/proj1\")\n",
    "\n",
    "#Read In Data\n",
    "f = open(\"Heart.csv\", 'r')\n",
    "reader = csv.reader(f)\n",
    "data = [r for r in reader]\n",
    "f.close()\n",
    "\n",
    "#Pick Column Vectors Decided\n",
    "#data = [ [i[0], i[1], i[3], i[4], i[5], i[6], i[8], i[10], i[12], i[13], i[14]] for i in data ]\n",
    "\n",
    "#Clean data:\n",
    "head = data[0][1:]\n",
    "data = data[1:]\n",
    "\n",
    "#Convert values to float. If '?' then change to Null\n",
    "ndata = []\n",
    "for r in data:\n",
    "\tif int(r[-1]) == 0:\n",
    "\t\tndata.append( [float(i) if i != \"?\" else None for i in r[1:] ])\n",
    "\telse:\n",
    "\t\trow = [float(i) if i != \"?\" else None for i in r[1:-1]]\n",
    "\t\trow.extend([1.0])\n",
    "\t\tndata.append(row)\n",
    "\n",
    "#Drop rows with Null in them\n",
    "ndata = [i for i in ndata if None not in i]\n",
    "colnames = ndata[0]\n",
    "del ndata[0]\n",
    "print(len(data) - len(ndata), \"rows removed. Data has\", len(ndata), \"rows.\")\n",
    "\n",
    "#Scale Data\n",
    "min_max_scaler = preprocessing.MinMaxScaler()\n",
    "scale_data = min_max_scaler.fit_transform( np.array(ndata))\n",
    "\n",
    "#define train data, x, y\n",
    "x_train = [i[:-1] for i in scale_data[:25]]\n",
    "x_data = [i[:-1] for i in scale_data]\n",
    "y_train = [i[-1] for i in scale_data[:25]]\n",
    "print(y_train, len(y_train), len(x_train))"
   ]
  },
  {
   "cell_type": "code",
   "execution_count": 83,
   "metadata": {
    "collapsed": false
   },
   "outputs": [
    {
     "name": "stdout",
     "output_type": "stream",
     "text": [
      "The best parameters are {'C': 1.0} with a score of 0.8\n"
     ]
    }
   ],
   "source": [
    "#Tune C and Gamma\n",
    "C_range = np.logspace(-2, 10, 13)\n",
    "gamma_range = np.logspace(-9, 3, 13)\n",
    "param_grid = dict(C=C_range)\n",
    "cv = StratifiedShuffleSplit( y_train, n_iter=5, test_size=0.2, random_state=42)\n",
    "grid = GridSearchCV(SVC(), param_grid=param_grid, cv=cv)\n",
    "grid.fit(x_train, y_train)\n",
    "print(\"The best parameters are {} with a score of {}\".format(grid.best_params_, grid.best_score_))"
   ]
  },
  {
   "cell_type": "code",
   "execution_count": 84,
   "metadata": {
    "collapsed": false
   },
   "outputs": [
    {
     "name": "stdout",
     "output_type": "stream",
     "text": [
      "13\n",
      "['Age', 'Sex', 'CP', 'Trestbps', 'Chol', 'Fbs', 'Restecg', 'Thalach', 'Exang', 'Oldpeak', 'Slope', 'Ca', 'Thal']\n",
      "Feature Dropped from Current Features: [('Restecg', 0.8277027027027027)]\n",
      "Iteration 13 resulted in new max: 0.8277027027027027\n",
      "12\n",
      "['Age', 'Sex', 'CP', 'Trestbps', 'Chol', 'Fbs', 'Thalach', 'Exang', 'Oldpeak', 'Slope', 'Ca', 'Thal']\n",
      "Feature Dropped from Current Features: [('Age', 0.8344594594594594), ('Trestbps', 0.8344594594594594)]\n",
      "Iteration 12 resulted in new max: 0.8344594594594594\n",
      "11\n",
      "['Sex', 'CP', 'Trestbps', 'Chol', 'Fbs', 'Thalach', 'Exang', 'Oldpeak', 'Slope', 'Ca', 'Thal']\n",
      "Feature Dropped from Current Features: [('Trestbps', 0.8412162162162162), ('Fbs', 0.8412162162162162)]\n",
      "Iteration 11 resulted in new max: 0.8412162162162162\n",
      "10\n",
      "['Sex', 'CP', 'Chol', 'Fbs', 'Thalach', 'Exang', 'Oldpeak', 'Slope', 'Ca', 'Thal']\n",
      "Feature Dropped from Current Features: [('Sex', 0.8445945945945946)]\n",
      "Iteration 10 resulted in new max: 0.8445945945945946\n",
      "9\n",
      "['CP', 'Chol', 'Fbs', 'Thalach', 'Exang', 'Oldpeak', 'Slope', 'Ca', 'Thal']\n",
      "Feature Dropped from Current Features: [('Fbs', 0.8445945945945946), ('Oldpeak', 0.8445945945945946)]\n",
      "Iteration 9 resulted in new max: 0.8445945945945946\n",
      "8\n",
      "['CP', 'Chol', 'Thalach', 'Exang', 'Oldpeak', 'Slope', 'Ca', 'Thal']\n",
      "Feature Dropped from Current Features: [('Thalach', 0.8445945945945946), ('Oldpeak', 0.8445945945945946)]\n",
      "Iteration 8 resulted in new max: 0.8445945945945946\n",
      "7\n",
      "['CP', 'Chol', 'Exang', 'Oldpeak', 'Slope', 'Ca', 'Thal']\n",
      "Feature Dropped from Current Features: [('Oldpeak', 0.8445945945945946)]\n",
      "Iteration 7 resulted in new max: 0.8445945945945946\n",
      "6\n",
      "['CP', 'Chol', 'Exang', 'Slope', 'Ca', 'Thal']\n",
      "Feature Dropped from Current Features: [('Chol', 0.8378378378378378)]\n",
      "5\n",
      "['CP', 'Exang', 'Slope', 'Ca', 'Thal']\n",
      "Feature Dropped from Current Features: [('CP', 0.8243243243243243)]\n",
      "4\n",
      "['Exang', 'Slope', 'Ca', 'Thal']\n",
      "Feature Dropped from Current Features: [('Exang', 0.8141891891891891)]\n",
      "3\n",
      "['Slope', 'Ca', 'Thal']\n",
      "Feature Dropped from Current Features: [('Slope', 0.7905405405405406)]\n",
      "2\n",
      "['Ca', 'Thal']\n",
      "Feature Dropped from Current Features: [('Ca', 0.7668918918918919)]\n",
      "[[13, 0.8277027027027027], [12, 0.8344594594594594], [11, 0.8412162162162162], [10, 0.8445945945945946], [9, 0.8445945945945946], [8, 0.8445945945945946], [7, 0.8445945945945946], [6, 0.8378378378378378], [5, 0.8243243243243243], [4, 0.8141891891891891], [3, 0.7905405405405406], [2, 0.7668918918918919]]\n"
     ]
    }
   ],
   "source": [
    "#Greedy Sequential Backwards Selection\n",
    "cur_features = head[:-1]\n",
    "j = len(cur_features)\n",
    "greedy_plot_output = []\n",
    "g_data = x_data[:]\n",
    "max_acc = 0\n",
    "\n",
    "while j > 1:\n",
    "\tprint(j)\n",
    "\tfeat_acc = []\n",
    "\n",
    "\t#Loop through the Current Features\n",
    "\tprint(cur_features)\n",
    "\tfor f in cur_features:\n",
    "\t\t\n",
    "\t\t#If we only have one current feature, append 0 to total accuracy and stop\n",
    "\t\tif len(cur_features) == 1:\n",
    "\t\t\tfeat_acc.append( (f, 0) )\n",
    "\t\t\tbreak\n",
    "\n",
    "\t\t#Get an index that matches the current feature, f\n",
    "\t\tm_index = 0\n",
    "\t\tfor obj in cur_features:\n",
    "\t\t\tif f == obj:\n",
    "\t\t\t\tbreak\n",
    "\t\t\telse:\n",
    "\t\t\t\tm_index += 1\n",
    "\n",
    "\t\t#print(\"match index is:\", m_index)\n",
    "\t\t#Drop Data not associated with current features\n",
    "\t\ttmp_data = []\n",
    "\t\ttmp_x_train = []\n",
    "\t\tcounter = 0\n",
    "\t\tfor i in g_data:\n",
    "\t\t\tif m_index < (len(i) - 1):\n",
    "\t\t\t\trow = i[:m_index]\n",
    "\t\t\t\trow = np.append(arr=row, values=i[m_index + 1:]) \n",
    "\t\t\telse:\n",
    "\t\t\t\trow = i[:m_index]\n",
    "\t\t\ttmp_data.append(row)\n",
    "\t\t\t#Add to training data set, but only for 25 records\n",
    "\t\t\tif counter < 25:\n",
    "\t\t\t\ttmp_x_train.append(row)\n",
    "\t\t\tcounter += 1\n",
    "\n",
    "\n",
    "\t\t#Run model with new subsetted dataset\n",
    "\t\tmod = svm.SVC(kernel='linear', C = grid.best_params_[\"C\"])\n",
    "\t\tmod.fit(tmp_x_train, y_train)\n",
    "\t\tgreedy_out = mod.predict(tmp_data)\n",
    "\n",
    "\t\t# Append results to original data for comparison. Allows to compute accuracy\n",
    "\t\tcomp_data = []\n",
    "\t\ti = 0\n",
    "\t\tfor c in range(len(greedy_out)):\n",
    "\t\t\trow = list(ndata[i])\n",
    "\t\t\trow.append(greedy_out[c])\n",
    "\t\t\tcomp_data.append(row)\n",
    "\t\t\ti += 1\n",
    "\t\t\n",
    "\t\t#Compute Accuracy Statistic\n",
    "\t\tmatch = 0\n",
    "\t\tfor i in range(len(comp_data[1:])):\n",
    "\t\t\tif comp_data[i][-2] == comp_data[i][-1]:\n",
    "\t\t\t\tmatch += 1\n",
    "\t\tacc = match / len(greedy_out)\n",
    "\n",
    "\t\t#Append Accuracy Statistic and Feature Name to list. Use this to determine which to drop.\n",
    "\t\tfeat_acc.append( ( f, acc) )\n",
    "\n",
    "\t#Figure out which dropped feature had the model with the highest accuracy:\n",
    "\tmax_lower_acc = list(filter(lambda x: x[1] == max( [y[1] for y in feat_acc]), feat_acc ))\n",
    "\tprint(\"Feature Dropped from Current Features:\", max_lower_acc)\n",
    "\tgreedy_plot_output.append([j,max_lower_acc[0][1]])\n",
    "\t\n",
    "\n",
    "\t#Drop that column from the set\n",
    "\tnew_cur_features = [q for q in cur_features if q != max_lower_acc[0][0]]\n",
    "\tfeat_ind = 0\n",
    "\tk = 0\n",
    "\twhile k < len(cur_features):\n",
    "\t\tif cur_features[k] != new_cur_features[k]:\n",
    "\t\t\tfeat_ind = k \n",
    "\t\t\t#print(cur_features[:k+1],\"\\n\", new_cur_features[:k+1], \"\\nThe index is:\", feat_ind)\n",
    "\t\t\tbreak\n",
    "\t\tk += 1\n",
    "\tcur_features = new_cur_features[:]\n",
    "\t#print(\"Match Index is:\", feat_ind)\n",
    "\n",
    "\t#Drop that column from g_data\n",
    "\ttmp_data = g_data[:]\n",
    "\tk = 0\n",
    "\tfor r in tmp_data:\n",
    "\t\tif feat_ind != (len(r) - 1):\n",
    "\t\t\trow = r[:feat_ind]\n",
    "\t\t\trow = np.append(row, r[feat_ind+1:])\n",
    "\t\telse:\n",
    "\t\t\trow = r[:feat_ind]\n",
    "\t\ttmp_data[k] = row\n",
    "\t\tk += 1\n",
    "\n",
    "\tg_data = tmp_data[:]\n",
    "\n",
    "\t#If model has better accuracy than previous (and less features), save the data for future use\n",
    "\tif max_lower_acc[0][1] >= max_acc:\n",
    "\t\tprint(\"Iteration\", j, \"resulted in new max:\", max_lower_acc[0][1])\n",
    "\t\tmax_acc = max_lower_acc[0][1]\n",
    "\t\tfinal_x_data = g_data[:]\n",
    "\t\tfinal_x_train = g_data[:25]\n",
    "\t\tsaved_features = new_cur_features[:]\n",
    "\n",
    "\t#Loop again.\n",
    "\tj -= 1\n",
    "\n",
    "print(greedy_plot_output)\n",
    "\n"
   ]
  },
  {
   "cell_type": "code",
   "execution_count": 85,
   "metadata": {
    "collapsed": false
   },
   "outputs": [
    {
     "data": {
      "text/plain": [
       "<matplotlib.text.Text at 0x11be6e400>"
      ]
     },
     "execution_count": 85,
     "metadata": {},
     "output_type": "execute_result"
    },
    {
     "data": {
      "image/png": "[encoded data removed]",
      "text/plain": [
       "<matplotlib.figure.Figure at 0x11a6d2f60>"
      ]
     },
     "metadata": {},
     "output_type": "display_data"
    }
   ],
   "source": [
    "#Plot Results of Greedy Selection Process\n",
    "plot_df = pd.DataFrame(greedy_plot_output, columns=[\"K\", \"Accuracy\"])\n",
    "plot_df.set_index(\"K\", inplace=True)\n",
    "plot_df = plot_df.reindex([i for i in range(2,13)])\n",
    "plot_df.plot()\n",
    "plt.xlabel(\"Number of Features\")\n",
    "plt.ylabel(\"Accuracy (pct. matched)\")"
   ]
  },
  {
   "cell_type": "code",
   "execution_count": 86,
   "metadata": {
    "collapsed": false
   },
   "outputs": [
    {
     "name": "stdout",
     "output_type": "stream",
     "text": [
      "From Greedy, using features: ['CP', 'Chol', 'Exang', 'Slope', 'Ca', 'Thal']\n",
      "Pct. Match 0.8417508417508418\n"
     ]
    }
   ],
   "source": [
    "#Fit Best Model from Greedy Selection\n",
    "print(\"From Greedy, using features:\", saved_features)\n",
    "clf = svm.SVC(kernel='linear', C = grid.best_params_[\"C\"])\n",
    "clf.fit(final_x_train, y_train)\n",
    "sv_out = clf.predict(final_x_data)\n",
    "\n",
    "#Create Output File\n",
    "head.append(\"Pred_Out\")\n",
    "sv_out_data = [head[:]]\n",
    "i = 0\n",
    "for c in range(len(sv_out)):\n",
    "\trow = list(ndata[i])\n",
    "\trow.append(sv_out[c])\n",
    "\tsv_out_data.append(row)\n",
    "\ti += 1\n",
    "\n",
    "#Compute Accuracy metric\n",
    "match = 0\n",
    "for i in range(len(sv_out_data[1:])):\n",
    "\tif sv_out_data[i][-2] == sv_out_data[i][-1]:\n",
    "\t\tmatch += 1\n",
    "print(\"Pct. Match\", float(match/len(sv_out_data)))\n",
    "\n",
    "#Write File\n",
    "f = open(\"sv_output.csv\", 'w', newline=\"\")\n",
    "writer = csv.writer(f)\n",
    "writer.writerows(sv_out_data)\n",
    "f.close()\n"
   ]
  },
  {
   "cell_type": "code",
   "execution_count": 91,
   "metadata": {
    "collapsed": false
   },
   "outputs": [
    {
     "name": "stdout",
     "output_type": "stream",
     "text": [
      "Sensitivity: 0.7883211678832117\n",
      "Specificity: 0.8930817610062893\n"
     ]
    },
    {
     "data": {
      "image/png": "[encoded data removed]",
      "text/plain": [
       "<matplotlib.figure.Figure at 0x11a6e94e0>"
      ]
     },
     "metadata": {},
     "output_type": "display_data"
    },
    {
     "name": "stdout",
     "output_type": "stream",
     "text": [
      "25 25\n"
     ]
    },
    {
     "data": {
      "image/png": "[encoded data removed]",
      "text/plain": [
       "<matplotlib.figure.Figure at 0x11be86208>"
      ]
     },
     "metadata": {},
     "output_type": "display_data"
    }
   ],
   "source": [
    "# Calculate Sensitivity, Specificity, and ROC Curve\n",
    "tp = 0\n",
    "tn = 0\n",
    "fp = 0\n",
    "fn = 0\n",
    "for row in sv_out_data[1:]:\n",
    "    if (row[-2] == 1) and (row[-1] == 1): #True Positive\n",
    "        tp += 1\n",
    "    if (row[-2] == 1) and (row[-1] == 0): #False Negative\n",
    "        fn += 1\n",
    "    if (row[-2] == 0) and (row[-1] == 1): #False Positive\n",
    "        fp += 1\n",
    "    if (row[-2] == 0) and (row[-1] == 0): #False Negative\n",
    "        tn += 1\n",
    "        \n",
    "sensitivity = tp/(tp+fn)\n",
    "specificity = tn/(tn+fp)\n",
    "\n",
    "print(\"Sensitivity:\", sensitivity)\n",
    "print(\"Specificity:\", specificity)\n",
    "\n",
    "#For ROC curve, need to change cutoff points and recompute spec and sens??\n",
    "from sklearn.metrics import roc_curve, auc\n",
    "from sklearn.cross_validation import train_test_split\n",
    "from sklearn.preprocessing import label_binarize\n",
    "from sklearn.multiclass import OneVsRestClassifier\n",
    "from scipy import interp\n",
    "actual = np.array([ i[-2] for i in sv_out_data[1:]])\n",
    "predictions = np.array([ i[-1] for i in sv_out_data[1:]])\n",
    "\n",
    "false_positive_rate, true_positive_rate, thresholds = roc_curve(actual, predictions)\n",
    "roc_auc = auc(false_positive_rate, true_positive_rate)\n",
    "\n",
    "plt.title('Receiver Operating Characteristic')\n",
    "plt.plot(false_positive_rate, true_positive_rate, 'b',\n",
    "label='AUC = %0.2f'% roc_auc)\n",
    "plt.legend(loc='lower right')\n",
    "plt.plot([0,1],[0,1],'r--')\n",
    "plt.xlim([-0.1,1.2])\n",
    "plt.ylim([-0.1,1.2])\n",
    "plt.ylabel('True Positive Rate')\n",
    "plt.xlabel('False Positive Rate')\n",
    "plt.show()\n",
    "\n",
    "X = np.array(final_x_train)\n",
    "y = np.array(y_train)\n",
    "print(len(X), len(y))\n",
    "\n",
    "\n",
    "# Binarize the output\n",
    "y = label_binarize(y, classes=[0, 1])\n",
    "n_classes = y.shape[1]\n",
    "\n",
    "# Add noisy features to make the problem harder\n",
    "random_state = np.random.RandomState(0)\n",
    "n_samples, n_features = X.shape\n",
    "X = np.c_[X, random_state.randn(n_samples, 200 * n_features)]\n",
    "\n",
    "# shuffle and split training and test sets\n",
    "X_train, X_test, y_train, y_test = train_test_split(X, y, test_size=.5,\n",
    "                                                    random_state=0)\n",
    "\n",
    "# Learn to predict each class against the other\n",
    "classifier = OneVsRestClassifier(svm.SVC(kernel='linear', probability=True,\n",
    "                                 random_state=random_state))\n",
    "y_score = classifier.fit(X_train, y_train).decision_function(X_test)\n",
    "\n",
    "# Compute ROC curve and ROC area for each class\n",
    "fpr = dict()\n",
    "tpr = dict()\n",
    "roc_auc = dict()\n",
    "for i in range(n_classes):\n",
    "    fpr[i], tpr[i], _ = roc_curve(y_test[:, i], y_score[:, i])\n",
    "    roc_auc[i] = auc(fpr[i], tpr[i])\n",
    "\n",
    "# Compute micro-average ROC curve and ROC area\n",
    "fpr[\"micro\"], tpr[\"micro\"], _ = roc_curve(y_test.ravel(), y_score.ravel())\n",
    "roc_auc[\"micro\"] = auc(fpr[\"micro\"], tpr[\"micro\"])\n",
    "\n",
    "\n",
    "##############################################################################\n",
    "# Plot of a ROC curve for a specific class\n",
    "plt.figure()\n",
    "plt.plot(fpr[0], tpr[0], label='ROC curve (area = %0.2f)' % roc_auc[0])\n",
    "plt.plot([0, 1], [0, 1], 'k--')\n",
    "plt.xlim([0.0, 1.0])\n",
    "plt.ylim([0.0, 1.05])\n",
    "plt.xlabel('False Positive Rate')\n",
    "plt.ylabel('True Positive Rate')\n",
    "plt.title('Receiver operating characteristic example')\n",
    "plt.legend(loc=\"lower right\")\n",
    "plt.show()\n"
   ]
  },
  {
   "cell_type": "code",
   "execution_count": null,
   "metadata": {
    "collapsed": true
   },
   "outputs": [],
   "source": []
  }
 ],
 "metadata": {
  "kernelspec": {
   "display_name": "Python 3",
   "language": "python",
   "name": "python3"
  },
  "language_info": {
   "codemirror_mode": {
    "name": "ipython",
    "version": 3
   },
   "file_extension": ".py",
   "mimetype": "text/x-python",
   "name": "python",
   "nbconvert_exporter": "python",
   "pygments_lexer": "ipython3",
   "version": "3.5.1"
  }
 },
 "nbformat": 4,
 "nbformat_minor": 0
}
